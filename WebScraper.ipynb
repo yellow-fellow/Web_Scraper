{
 "cells": [
  {
   "cell_type": "code",
   "execution_count": 1,
   "metadata": {},
   "outputs": [],
   "source": [
    "from bs4 import BeautifulSoup\n",
    "import url_parser\n",
    "import requests\n",
    "from IPython.display import clear_output, display, Markdown\n",
    "import ipywidgets as widgets\n",
    "from google_trans_new import google_translator\n",
    "import json\n",
    "import pandas as pd\n",
    "\n",
    "translator = google_translator()"
   ]
  },
  {
   "cell_type": "code",
   "execution_count": 7,
   "metadata": {},
   "outputs": [
    {
     "name": "stdout",
     "output_type": "stream",
     "text": [
      "https://www.haibunda.com/moms-life/20210222170759-68-194028/5-sikap-tak-terduga-istri-ayus-pada-nissa-sabyan-ternyata-selama-ini/3\n"
     ]
    }
   ],
   "source": [
    "\n",
    "\n",
    "df = pd.read_excel('vast-tag.xlsx')\n",
    "\n",
    "print(df['feb-22-28'][17])\n",
    "\n",
    "user_input = str(df['feb-22-28'][0])"
   ]
  },
  {
   "cell_type": "code",
   "execution_count": 13,
   "metadata": {},
   "outputs": [
    {
     "data": {
      "text/plain": [
       "'https://news.detik.com/'"
      ]
     },
     "execution_count": 13,
     "metadata": {},
     "output_type": "execute_result"
    }
   ],
   "source": [
    "#import json\n",
    "\n",
    "# database = {}\n",
    "# a = 'sites'\n",
    "# data[a] = []\n",
    "# database[\"hello\"] = a\n",
    "\n",
    "# print(database)\n",
    "\n",
    "# with open('data.json', 'w') as outfile:\n",
    "#     json.dump(data, outfile)"
   ]
  },
  {
   "cell_type": "code",
   "execution_count": 15,
   "metadata": {},
   "outputs": [
    {
     "name": "stdout",
     "output_type": "stream",
     "text": [
      "\n",
      "\u001b[1mFULL-URL-DIRECTORY\u001b[0m\n",
      "/moms-life/20210222170759-68-194028/5-sikap-tak-terduga-istri-ayus-pada-nissa-sabyan-ternyata-selama-ini/3\n",
      "\n",
      "\u001b[1mFIRST-URL-DIRECTORY\u001b[0m\n",
      "moms-life\n",
      "\n",
      "\u001b[1mSECOND-URL-DIRECTORY\u001b[0m\n",
      "20210222170759-68-194028\n",
      "\n",
      "\u001b[1mPROPERTY-TAGS \u001b[0m\n",
      "\n",
      "Property: og:title --> 5 Sikap Tak Terduga Istri Ayus pada Nissa Sabyan, Ternyata Selama Ini... - Halaman 3\n",
      "\n",
      "Property: og:description --> Kabar perselingkuhan Ayus dan Nissa Sabyan masih ramai diperbincangkan. Kini pun terungkap bagaimana perilaku baik istri Ayus terhadap Nissa selama ini. - Halaman 3\n",
      "\n",
      "\u001b[1mNAME-TAGS \u001b[0m\n",
      "\n",
      "Name: originalTitle --> 5 Sikap Tak Terduga Istri Ayus pada Nissa Sabyan, Ternyata Selama Ini...\n",
      "\n",
      "Name: description --> Kabar perselingkuhan Ayus dan Nissa Sabyan masih ramai diperbincangkan. Kini pun terungkap bagaimana perilaku baik istri Ayus terhadap Nissa selama ini. - Halaman 3\n",
      "\n",
      "Name: keywords --> nissa sabyan, ayus dan nissa sabyan selingkuh, ririe fairus, perceraian, selingkuh\n",
      "\n",
      "Name: twitter:description --> Kabar perselingkuhan Ayus dan Nissa Sabyan masih ramai diperbincangkan. Kini pun terungkap bagaimana perilaku baik istri Ayus terhadap Nissa selama ini. - Halaman 3\n",
      "\n",
      "Name: dtk:keywords --> nissa sabyan, ayus dan nissa sabyan selingkuh, ririe fairus, perceraian, selingkuh\n",
      "\n",
      "Name: dtk:custom-title --> 5+sikap+tak+terduga+istri+ayus+pada+nissa+sabyan%2C+ternyata+selama+ini...\n",
      "\n",
      "\u001b[1mA-TAGS \u001b[0m\n",
      "{'URL': 'https://www.haibunda.com/moms-life/20210222170759-68-194028/5-sikap-tak-terduga-istri-ayus-pada-nissa-sabyan-ternyata-selama-ini/3', 'Full-URL-Path': '/moms-life/20210222170759-68-194028/5-sikap-tak-terduga-istri-ayus-pada-nissa-sabyan-ternyata-selama-ini/3', 'First-URL-Directory': 'moms-life', 'Second-URL-Directory': '20210222170759-68-194028', 'Tags': '\\n5 Sikap Tak Terduga Istri Ayus pada Nissa Sabyan, Ternyata Selama Ini... - Halaman 3\\nKabar perselingkuhan Ayus dan Nissa Sabyan masih ramai diperbincangkan. Kini pun terungkap bagaimana perilaku baik istri Ayus terhadap Nissa selama ini. - Halaman 3\\n5 Sikap Tak Terduga Istri Ayus pada Nissa Sabyan, Ternyata Selama Ini...\\nKabar perselingkuhan Ayus dan Nissa Sabyan masih ramai diperbincangkan. Kini pun terungkap bagaimana perilaku baik istri Ayus terhadap Nissa selama ini. - Halaman 3\\nnissa sabyan, ayus dan nissa sabyan selingkuh, ririe fairus, perceraian, selingkuh\\nKabar perselingkuhan Ayus dan Nissa Sabyan masih ramai diperbincangkan. Kini pun terungkap bagaimana perilaku baik istri Ayus terhadap Nissa selama ini. - Halaman 3\\nnissa sabyan, ayus dan nissa sabyan selingkuh, ririe fairus, perceraian, selingkuh\\n5+sikap+tak+terduga+istri+ayus+pada+nissa+sabyan%2C+ternyata+selama+ini...'}\n"
     ]
    }
   ],
   "source": [
    "website = ''\n",
    "stored_text = ''\n",
    "temp_dict = {}\n",
    "\n",
    "#while (website != 'exit') and (website != 'translate'):\n",
    "try:\n",
    "    user_input = input(\"Please ensure that your link has \\033[1m https:// \\033[0m \\n\\n\")\n",
    "    website = str(user_input)\n",
    "    temp_dict['URL'] = website\n",
    "    html_text = requests.get(website, headers={\n",
    "'User-Agent': 'Mozilla/5.0 (Macintosh; Intel Mac OS X 10_15_7) AppleWebKit/537.36 (KHTML, like Gecko) Chrome/89.0.4389.90 Safari/537.36',\n",
    "}).text\n",
    "    clear_output(wait=True)\n",
    "except:\n",
    "    pass#continue\n",
    "soup = BeautifulSoup(html_text,'lxml')\n",
    "meta_tags = soup.find_all('meta')\n",
    "\n",
    "#exclusion_list = ['https://','width','charset','image','jpeg','index','@detikcom','max-snippet','wordpress','chrome=1','ie=edge','2021','rgb','2020','singlepage','app-id','desktop','article','.org']\n",
    "\n",
    "# <meta property=\"og:title\" content=\"The faces of the #SAF44\">\n",
    "# Targetting meta-property tags\n",
    "property_list = ['description','keywords','title','category','categories','article:section']\n",
    "\n",
    "#print(soup.prettify())\n",
    "\n",
    "try:\n",
    "    print('\\n\\033[1mFULL-URL-DIRECTORY\\033[0m')\n",
    "    print(url_parser.parse_url(user_input)['path'])\n",
    "    temp_dict['Full-URL-Path'] = url_parser.parse_url(user_input)['path']\n",
    "\n",
    "    print('\\n\\033[1mFIRST-URL-DIRECTORY\\033[0m')\n",
    "    category = url_parser.parse_url(user_input)['dir']\n",
    "    category = category[1:-1]\n",
    "    first_directory = category.split('/')[0]\n",
    "    print(first_directory)\n",
    "    temp_dict['First-URL-Directory'] = first_directory\n",
    "\n",
    "\n",
    "    print('\\n\\033[1mSECOND-URL-DIRECTORY\\033[0m')\n",
    "    second_directory = category.split('/')[1]\n",
    "    print(second_directory)\n",
    "    temp_dict['Second-URL-Directory'] = second_directory\n",
    "\n",
    "except:\n",
    "    pass\n",
    "\n",
    "property_text = \"\\n\\033[1mPROPERTY-TAGS \\033[0m\"\n",
    "print(property_text)\n",
    "for content in meta_tags:\n",
    "    try:\n",
    "        if (any(item in content['property'].lower() for item in property_list)):\n",
    "            print('\\nProperty: '+ content.get(\"property\", None) + \" --> \" + content['content'])\n",
    "            stored_text += '\\n' + content['content']\n",
    "    except:\n",
    "        pass\n",
    "\n",
    "name_text = \"\\n\\033[1mNAME-TAGS \\033[0m\"\n",
    "print(name_text)\n",
    "for content in meta_tags:\n",
    "    try:\n",
    "        if (any(item in content['name'].lower() for item in property_list)):\n",
    "            print('\\nName: '+ content.get(\"name\", None) + \" --> \" + content['content'])\n",
    "            stored_text += '\\n' + content['content']\n",
    "    except:\n",
    "        pass\n",
    "\n",
    "\n",
    "# See if can use css-selector instead.\n",
    "# a_tags = soup.find_all(\"div > a\")\n",
    "# may be lazy loading\n",
    "print(\"\\n\\033[1mA-TAGS \\033[0m\")\n",
    "div_tags = soup.find_all(\"div\")\n",
    "for div_tag in div_tags:\n",
    "    try:\n",
    "        a_tags = div_tag.find_all(\"a\",{\"class\":\"tag-detail\"})\n",
    "        for a in a_tags:\n",
    "            print('\\nDIV-A-Tags: '+ a.text)\n",
    "            stored_text += '\\n' + a.text\n",
    "    except:\n",
    "        pass\n",
    "\n",
    "temp_dict['Tags'] = stored_text\n",
    "print(temp_dict)\n",
    "            \n",
    "        \n",
    "if (website == 'translate'):\n",
    "    print(\"\\n\\033[1mTRANSLATED-TEXT\\033[0m\")\n",
    "    translate_text = translator.translate(stored_text, lang_tgt='en')  \n",
    "    print('\\n' + translate_text)"
   ]
  },
  {
   "cell_type": "code",
   "execution_count": 16,
   "metadata": {},
   "outputs": [],
   "source": [
    "with open('data.json', 'w') as outfile:\n",
    "    json.dump(temp_dict, outfile)"
   ]
  },
  {
   "cell_type": "code",
   "execution_count": null,
   "metadata": {},
   "outputs": [],
   "source": []
  }
 ],
 "metadata": {
  "kernelspec": {
   "display_name": "Python 3",
   "language": "python",
   "name": "python3"
  },
  "language_info": {
   "codemirror_mode": {
    "name": "ipython",
    "version": 3
   },
   "file_extension": ".py",
   "mimetype": "text/x-python",
   "name": "python",
   "nbconvert_exporter": "python",
   "pygments_lexer": "ipython3",
   "version": "3.8.3"
  }
 },
 "nbformat": 4,
 "nbformat_minor": 4
}
